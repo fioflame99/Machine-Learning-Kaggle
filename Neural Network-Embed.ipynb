{
 "cells": [
  {
   "cell_type": "code",
   "execution_count": 1,
   "id": "inclusive-chemical",
   "metadata": {},
   "outputs": [],
   "source": [
    "import pandas as pd\n",
    "import tensorflow as tf\n",
    "from tensorflow import keras\n",
    "from tensorflow.keras import layers\n",
    "from tensorflow.keras.layers import Normalization, StringLookup, IntegerLookup\n",
    "from sklearn import preprocessing\n",
    "from sklearn.model_selection import train_test_split\n",
    "import keras.backend as KerasBackend\n",
    "import tensorflow_docs as tfdocs\n",
    "import tensorflow_docs.modeling\n",
    "import tensorflow_docs.plots\n",
    "import keras_tuner\n",
    "SEED =1\n",
    "import random \n",
    "random.seed(SEED)\n",
    "\n",
    "import numpy as np\n",
    "np.random.seed(SEED)\n",
    "\n",
    "import tensorflow as tf\n",
    "tf.random.set_seed(SEED)"
   ]
  },
  {
   "cell_type": "code",
   "execution_count": 2,
   "id": "seeing-module",
   "metadata": {},
   "outputs": [],
   "source": [
    "train_df = pd.read_csv('train.csv')\n",
    "test_df = pd.read_csv('test.csv')"
   ]
  },
  {
   "cell_type": "code",
   "execution_count": 3,
   "id": "directed-phoenix",
   "metadata": {},
   "outputs": [],
   "source": [
    "train_df['date'] = pd.to_datetime(train_df['date'])\n",
    "test_df['date'] = pd.to_datetime(test_df['date'])\n",
    "X_train_df = pd.DataFrame({'year': train_df['date'].dt.year-2013,'month':train_df['date'].dt.month,'day': train_df['date'].dt.day,\n",
    "                        'weekday':train_df['date'].dt.weekday,'store':train_df['store'],'item':train_df['item']})\n",
    "X_train = np.array(X_train_df)\n",
    "X_test_df = pd.DataFrame({'year': test_df['date'].dt.year-2013,'month':test_df['date'].dt.month,'day': test_df['date'].dt.day,\n",
    "                       'weekday':test_df['date'].dt.weekday,'store':test_df['store'],'item':test_df['item']})\n",
    "X_test = np.array(X_test_df)"
   ]
  },
  {
   "cell_type": "code",
   "execution_count": 4,
   "id": "cross-mentor",
   "metadata": {},
   "outputs": [],
   "source": [
    "Y_train = np.array(train_df['sales'])\n",
    "id_test = np.array(test_df['id'])"
   ]
  },
  {
   "cell_type": "code",
   "execution_count": 5,
   "id": "failing-privacy",
   "metadata": {},
   "outputs": [
    {
     "name": "stdout",
     "output_type": "stream",
     "text": [
      "(913000, 6) (913000,)\n",
      "(45000, 6) (45000,)\n"
     ]
    }
   ],
   "source": [
    "print(X_train.shape, Y_train.shape) \n",
    "print(X_test.shape, id_test.shape)"
   ]
  },
  {
   "cell_type": "code",
   "execution_count": 6,
   "id": "nuclear-geometry",
   "metadata": {},
   "outputs": [
    {
     "data": {
      "text/plain": [
       "array([[ 0,  1,  1,  1,  1,  1],\n",
       "       [ 0,  1,  2,  2,  1,  1],\n",
       "       [ 0,  1,  3,  3,  1,  1],\n",
       "       ...,\n",
       "       [ 4, 12, 29,  4, 10, 50],\n",
       "       [ 4, 12, 30,  5, 10, 50],\n",
       "       [ 4, 12, 31,  6, 10, 50]], dtype=int64)"
      ]
     },
     "execution_count": 6,
     "metadata": {},
     "output_type": "execute_result"
    }
   ],
   "source": [
    "X_train"
   ]
  },
  {
   "cell_type": "code",
   "execution_count": 7,
   "id": "therapeutic-woman",
   "metadata": {},
   "outputs": [
    {
     "name": "stdout",
     "output_type": "stream",
     "text": [
      "Years: 6\n",
      "Month: 12\n",
      "Day: 31\n",
      "Weekday: 7\n",
      "Store: 10\n",
      "Item: 50\n"
     ]
    }
   ],
   "source": [
    "X_comb = pd.concat([X_train_df, X_test_df])\n",
    "\n",
    "print(\"Years: \"+str(X_comb['year'].nunique()))\n",
    "print(\"Month: \"+ str(X_comb['month'].nunique()))\n",
    "print(\"Day: \"+ str(X_comb['day'].nunique()))\n",
    "print(\"Weekday: \"+ str(X_comb['weekday'].nunique()))\n",
    "print(\"Store: \"+ str(X_comb['store'].nunique()))\n",
    "print(\"Item: \"+ str(X_comb['item'].nunique()))\n",
    "\n",
    "unique={'year':X_comb['year'].nunique(),'month': X_comb['month'].nunique(), 'day':X_comb['day'].nunique(), \n",
    "        'weekday':X_comb['weekday'].nunique(), 'store':X_comb['store'].nunique(), 'item': X_comb['item'].nunique()}"
   ]
  },
  {
   "cell_type": "code",
   "execution_count": 8,
   "id": "iraqi-response",
   "metadata": {},
   "outputs": [
    {
     "name": "stdout",
     "output_type": "stream",
     "text": [
      "(821700, 6) (821700,)\n",
      "(91300, 6) (91300,)\n"
     ]
    }
   ],
   "source": [
    "X_train_ds, X_valid_ds, Y_train_ds, Y_valid_ds = train_test_split(X_train, Y_train, test_size=0.1, random_state=0, shuffle = True)\n",
    "print(X_train_ds.shape, Y_train_ds.shape)\n",
    "print(X_valid_ds.shape, Y_valid_ds.shape)"
   ]
  },
  {
   "cell_type": "code",
   "execution_count": 9,
   "id": "handed-concentration",
   "metadata": {},
   "outputs": [],
   "source": [
    "def smape(x, y):\n",
    "    x, y = float(x), float(y)\n",
    "    return 100.*KerasBackend.mean(2*KerasBackend.abs(x-y)/(KerasBackend.abs(x)+KerasBackend.abs(y)))"
   ]
  },
  {
   "cell_type": "code",
   "execution_count": 10,
   "id": "nonprofit-recording",
   "metadata": {},
   "outputs": [],
   "source": [
    "def r2(y_true, y_pred): \n",
    "    '''\n",
    "    # Obtained from https://jmlb.github.io/ml/2017/03/20/CoeffDetermination_CustomMetric4Keras/\n",
    "    # TODO: you have to find out how to use it in your code\n",
    "    '''\n",
    "    SS_res = KerasBackend.sum(KerasBackend.square( y_true - y_pred )) \n",
    "    SS_tot = KerasBackend.sum(KerasBackend.square( y_true - KerasBackend.mean(y_true) ) ) \n",
    "    return ( 1 - SS_res/(SS_tot + KerasBackend.epsilon()) )"
   ]
  },
  {
   "cell_type": "code",
   "execution_count": 11,
   "id": "dramatic-shark",
   "metadata": {},
   "outputs": [],
   "source": [
    "def build_model(hp):\n",
    "    year = keras.Input(shape=(1,), name=\"year\", dtype=\"float32\")\n",
    "    month = keras.Input(shape=(1,), name=\"month\", dtype=\"int64\")\n",
    "    day = keras.Input(shape=(1,), name=\"day\", dtype=\"int64\")\n",
    "    weekday = keras.Input(shape=(1,), name=\"weekday\", dtype=\"int64\")\n",
    "    store = keras.Input(shape=(1,), name=\"store\", dtype=\"int64\")\n",
    "    item = keras.Input(shape=(1,), name=\"item\", dtype=\"int64\")\n",
    "\n",
    "    all_inputs = [\n",
    "        year,\n",
    "        month,\n",
    "        day,\n",
    "        weekday,\n",
    "        store,\n",
    "        item\n",
    "    ]\n",
    "\n",
    "    m = layers.Embedding(unique['month']+1, (unique['month']//2)+1)(month)\n",
    "    outputm = layers.Flatten()(m)\n",
    "    d = layers.Embedding(unique['day']+1, (unique['day']//2)+1)(day)\n",
    "    outputd = layers.Flatten()(d)\n",
    "    wd = layers.Embedding(unique['weekday']+1, (unique['weekday']//2)+1)(weekday)\n",
    "    outputwd = layers.Flatten()(wd)\n",
    "    s = layers.Embedding(unique['store']+1, (unique['store']//2)+1)(store)\n",
    "    outputs = layers.Flatten()(s)\n",
    "    i = layers.Embedding(unique['item']+1, (unique['item']//2)+1)(item)\n",
    "    outputi = layers.Flatten()(i)\n",
    "\n",
    "    all_features = layers.concatenate([\n",
    "        year,\n",
    "        outputm,\n",
    "        outputd,\n",
    "        outputwd,\n",
    "        outputs,\n",
    "        outputi,\n",
    "    ])\n",
    "    x = layers.Dense(hp.Int('Number of Neurons', 128, 512, step=64), activation=\"relu\")(all_features)\n",
    "    x = layers.Dense(hp.Int('Number of Neurons', 128, 512, step=64), activation=\"relu\")(x)\n",
    "    x = layers.Dense(hp.Int('Number of Neurons', 128, 512, step=64), activation=\"relu\")(x)\n",
    "    output = layers.Dense(1, activation=\"linear\")(x)\n",
    "    model = keras.Model(all_inputs, output)\n",
    "    model.compile(optimizer=tf.keras.optimizers.Adam(hp.Float('learning_rate', 1e-5, 2e-1, sampling='log')), \n",
    "                  loss=smape, \n",
    "                  metrics=[r2, tf.keras.metrics.RootMeanSquaredError(name=\"rmse\")])\n",
    "            \n",
    "    return model"
   ]
  },
  {
   "cell_type": "code",
   "execution_count": 12,
   "id": "leading-treat",
   "metadata": {},
   "outputs": [],
   "source": [
    "# Defining the tuner and using bayesian optimization\n",
    "tuner = keras_tuner.BayesianOptimization(\n",
    "    build_model,\n",
    "    objective='val_loss',\n",
    "    overwrite=True,\n",
    "    max_trials=7)"
   ]
  },
  {
   "cell_type": "code",
   "execution_count": 13,
   "id": "incorporate-curtis",
   "metadata": {},
   "outputs": [
    {
     "name": "stdout",
     "output_type": "stream",
     "text": [
      "Trial 7 Complete [00h 16m 44s]\n",
      "val_loss: 12.498146057128906\n",
      "\n",
      "Best val_loss So Far: 12.496888160705566\n",
      "Total elapsed time: 01h 35m 41s\n",
      "INFO:tensorflow:Oracle triggered exit\n"
     ]
    }
   ],
   "source": [
    "# Using the tuner to search for the best hyperparameters\n",
    "tuner.search(\n",
    "    [X_train_ds[:,0],X_train_ds[:,1],X_train_ds[:,2],X_train_ds[:,3],X_train_ds[:,4],X_train_ds[:,5]], \n",
    "          Y_train_ds,\n",
    "    epochs = 20,\n",
    "    batch_size=32,\n",
    "    callbacks=[tf.keras.callbacks.EarlyStopping(monitor='val_loss', patience=5)],\n",
    "    validation_data=(\n",
    "            [X_valid_ds[:,0],X_valid_ds[:,1],X_valid_ds[:,2],X_valid_ds[:,3],X_valid_ds[:,4],X_valid_ds[:,5]]\n",
    "            , Y_valid_ds)\n",
    ")"
   ]
  },
  {
   "cell_type": "code",
   "execution_count": 14,
   "id": "atmospheric-tulsa",
   "metadata": {},
   "outputs": [],
   "source": [
    "best_model = tuner.get_best_models(1)[0]\n",
    "best_hyperparameters = tuner.get_best_hyperparameters(1)[0]"
   ]
  },
  {
   "cell_type": "code",
   "execution_count": 15,
   "id": "exact-correlation",
   "metadata": {},
   "outputs": [
    {
     "name": "stdout",
     "output_type": "stream",
     "text": [
      "\n",
      "The hyperparameter search is complete. The optimal number of units in the \n",
      "layer is 512 and the optimal learning rate for the optimizer\n",
      "is 1e-05.\n",
      "\n"
     ]
    }
   ],
   "source": [
    "print(f\"\"\"\n",
    "The hyperparameter search is complete. The optimal number of units in the \n",
    "layer is {best_hyperparameters.get('Number of Neurons')} and the optimal learning rate for the optimizer\n",
    "is {best_hyperparameters.get('learning_rate')}.\n",
    "\"\"\")"
   ]
  },
  {
   "cell_type": "code",
   "execution_count": 16,
   "id": "authorized-indian",
   "metadata": {},
   "outputs": [],
   "source": [
    "def NN():\n",
    "    #input variables\n",
    "    year = keras.Input(shape=(1,), name=\"year\", dtype=\"float32\")\n",
    "    month = keras.Input(shape=(1,), name=\"month\", dtype=\"int64\")\n",
    "    day = keras.Input(shape=(1,), name=\"day\", dtype=\"int64\")\n",
    "    weekday = keras.Input(shape=(1,), name=\"weekday\", dtype=\"int64\")\n",
    "    store = keras.Input(shape=(1,), name=\"store\", dtype=\"int64\")\n",
    "    item = keras.Input(shape=(1,), name=\"item\", dtype=\"int64\")\n",
    "\n",
    "    all_inputs = [\n",
    "        year,\n",
    "        month,\n",
    "        day,\n",
    "        weekday,\n",
    "        store,\n",
    "        item\n",
    "    ]\n",
    "\n",
    "    m = layers.Embedding(unique['month']+1, (unique['month']//2)+1)(month)\n",
    "    outputm = layers.Flatten()(m)\n",
    "    d = layers.Embedding(unique['day']+1, (unique['day']//2)+1)(day)\n",
    "    outputd = layers.Flatten()(d)\n",
    "    wd = layers.Embedding(unique['weekday']+1, (unique['weekday']//2)+1)(weekday)\n",
    "    outputwd = layers.Flatten()(wd)\n",
    "    s = layers.Embedding(unique['store']+1, (unique['store']//2)+1)(store)\n",
    "    outputs = layers.Flatten()(s)\n",
    "    i = layers.Embedding(unique['item']+1, (unique['item']//2)+1)(item)\n",
    "    outputi = layers.Flatten()(i)\n",
    "\n",
    "    all_features = layers.concatenate([\n",
    "        year,\n",
    "        outputm,\n",
    "        outputd,\n",
    "        outputwd,\n",
    "        outputs,\n",
    "        outputi,\n",
    "    ])\n",
    "    x = layers.Dense(512, activation=\"relu\")(all_features)\n",
    "    x = layers.Dense(512, activation=\"relu\")(x)\n",
    "    x = layers.Dense(512, activation=\"relu\")(x)\n",
    "    output = layers.Dense(1, activation=\"linear\")(x)\n",
    "    model = keras.Model(all_inputs, output)\n",
    "    model.compile(optimizer=tf.keras.optimizers.Adam(1e-05), \n",
    "                  loss=smape, \n",
    "                  metrics=[r2, tf.keras.metrics.RootMeanSquaredError(name=\"rmse\")])\n",
    "    history = model.fit([X_train_ds[:,0],X_train_ds[:,1],X_train_ds[:,2],X_train_ds[:,3],X_train_ds[:,4],X_train_ds[:,5]], \n",
    "          Y_train_ds,\n",
    "        validation_data=(\n",
    "            [X_valid_ds[:,0],X_valid_ds[:,1],X_valid_ds[:,2],X_valid_ds[:,3],X_valid_ds[:,4],X_valid_ds[:,5]]\n",
    "            , Y_valid_ds),\n",
    "        epochs=50, batch_size=32,\n",
    "        callbacks=[tf.keras.callbacks.EarlyStopping(monitor='val_loss', patience=5)],\n",
    "        )\n",
    "    #0.983\n",
    "    result = model.predict([X_test[:,0],X_test[:,1],X_test[:,2],X_test[:,3],X_test[:,4],X_test[:,5]])*0.983\n",
    "    return result"
   ]
  },
  {
   "cell_type": "code",
   "execution_count": 17,
   "id": "imported-carry",
   "metadata": {
    "scrolled": true
   },
   "outputs": [
    {
     "name": "stdout",
     "output_type": "stream",
     "text": [
      "Currently on iteration 1\n",
      "Epoch 1/50\n",
      "25679/25679 [==============================] - 77s 3ms/step - loss: 22.5309 - r2: 0.6524 - rmse: 16.5689 - val_loss: 12.7733 - val_r2: 0.9239 - val_rmse: 7.6759\n",
      "Epoch 2/50\n",
      "25679/25679 [==============================] - 71s 3ms/step - loss: 12.6863 - r2: 0.9269 - rmse: 7.4767 - val_loss: 12.5705 - val_r2: 0.9287 - val_rmse: 7.3770\n",
      "Epoch 3/50\n",
      "25679/25679 [==============================] - 70s 3ms/step - loss: 12.6061 - r2: 0.9289 - rmse: 7.3420 - val_loss: 12.5481 - val_r2: 0.9294 - val_rmse: 7.3138\n",
      "Epoch 4/50\n",
      "25679/25679 [==============================] - 70s 3ms/step - loss: 12.5830 - r2: 0.9294 - rmse: 7.3104 - val_loss: 12.5431 - val_r2: 0.9295 - val_rmse: 7.3002\n",
      "Epoch 5/50\n",
      "25679/25679 [==============================] - 70s 3ms/step - loss: 12.5725 - r2: 0.9296 - rmse: 7.2946 - val_loss: 12.5326 - val_r2: 0.9298 - val_rmse: 7.2961\n",
      "Epoch 6/50\n",
      "25679/25679 [==============================] - 70s 3ms/step - loss: 12.5655 - r2: 0.9298 - rmse: 7.2872 - val_loss: 12.5265 - val_r2: 0.9299 - val_rmse: 7.2787\n",
      "Epoch 7/50\n",
      "25679/25679 [==============================] - 69s 3ms/step - loss: 12.5583 - r2: 0.9299 - rmse: 7.2807 - val_loss: 12.5171 - val_r2: 0.9300 - val_rmse: 7.2922\n",
      "Epoch 8/50\n",
      "25679/25679 [==============================] - 70s 3ms/step - loss: 12.5557 - r2: 0.9299 - rmse: 7.2769 - val_loss: 12.5245 - val_r2: 0.9299 - val_rmse: 7.2877\n",
      "Epoch 9/50\n",
      "25679/25679 [==============================] - 70s 3ms/step - loss: 12.5496 - r2: 0.9300 - rmse: 7.2738 - val_loss: 12.5041 - val_r2: 0.9303 - val_rmse: 7.2614\n",
      "Epoch 10/50\n",
      "25679/25679 [==============================] - 68s 3ms/step - loss: 12.5450 - r2: 0.9301 - rmse: 7.2697 - val_loss: 12.5001 - val_r2: 0.9303 - val_rmse: 7.2583\n",
      "Epoch 11/50\n",
      "25679/25679 [==============================] - 69s 3ms/step - loss: 12.5416 - r2: 0.9299 - rmse: 7.2670 - val_loss: 12.4975 - val_r2: 0.9303 - val_rmse: 7.2610\n",
      "Epoch 12/50\n",
      "25679/25679 [==============================] - 71s 3ms/step - loss: 12.5383 - r2: 0.9300 - rmse: 7.2655 - val_loss: 12.4968 - val_r2: 0.9304 - val_rmse: 7.2580\n",
      "Epoch 13/50\n",
      "25679/25679 [==============================] - 69s 3ms/step - loss: 12.5346 - r2: 0.9303 - rmse: 7.2620 - val_loss: 12.4946 - val_r2: 0.9305 - val_rmse: 7.2534\n",
      "Epoch 14/50\n",
      "25679/25679 [==============================] - 71s 3ms/step - loss: 12.5336 - r2: 0.9300 - rmse: 7.2608 - val_loss: 12.5270 - val_r2: 0.9301 - val_rmse: 7.2623\n",
      "Epoch 15/50\n",
      "25679/25679 [==============================] - 70s 3ms/step - loss: 12.5305 - r2: 0.9301 - rmse: 7.2598 - val_loss: 12.5153 - val_r2: 0.9301 - val_rmse: 7.2721\n",
      "Epoch 16/50\n",
      "25679/25679 [==============================] - 69s 3ms/step - loss: 12.5275 - r2: 0.9302 - rmse: 7.2578 - val_loss: 12.5038 - val_r2: 0.9303 - val_rmse: 7.2555\n",
      "Epoch 17/50\n",
      "25679/25679 [==============================] - 68s 3ms/step - loss: 12.5249 - r2: 0.9301 - rmse: 7.2566 - val_loss: 12.4989 - val_r2: 0.9303 - val_rmse: 7.2551\n",
      "Epoch 18/50\n",
      "25679/25679 [==============================] - 68s 3ms/step - loss: 12.5227 - r2: 0.9303 - rmse: 7.2551 - val_loss: 12.5170 - val_r2: 0.9302 - val_rmse: 7.2714\n",
      "1407/1407 [==============================] - 1s 998us/step\n",
      "Currently on iteration 2\n",
      "Epoch 1/50\n",
      "25679/25679 [==============================] - 56s 2ms/step - loss: 23.2749 - r2: 0.6323 - rmse: 17.0370 - val_loss: 12.7616 - val_r2: 0.9244 - val_rmse: 7.6459\n",
      "Epoch 2/50\n",
      "25679/25679 [==============================] - 56s 2ms/step - loss: 12.6710 - r2: 0.9273 - rmse: 7.4522 - val_loss: 12.5712 - val_r2: 0.9288 - val_rmse: 7.3687\n",
      "Epoch 3/50\n",
      "25679/25679 [==============================] - 56s 2ms/step - loss: 12.5955 - r2: 0.9291 - rmse: 7.3291 - val_loss: 12.5487 - val_r2: 0.9295 - val_rmse: 7.3070\n",
      "Epoch 4/50\n",
      "25679/25679 [==============================] - 56s 2ms/step - loss: 12.5737 - r2: 0.9296 - rmse: 7.3003 - val_loss: 12.5282 - val_r2: 0.9297 - val_rmse: 7.2888\n",
      "Epoch 5/50\n",
      "25679/25679 [==============================] - 56s 2ms/step - loss: 12.5641 - r2: 0.9297 - rmse: 7.2869 - val_loss: 12.5354 - val_r2: 0.9298 - val_rmse: 7.2969\n",
      "Epoch 6/50\n",
      "25679/25679 [==============================] - 57s 2ms/step - loss: 12.5582 - r2: 0.9299 - rmse: 7.2803 - val_loss: 12.5338 - val_r2: 0.9297 - val_rmse: 7.2828\n",
      "Epoch 7/50\n",
      "25679/25679 [==============================] - 57s 2ms/step - loss: 12.5512 - r2: 0.9300 - rmse: 7.2752 - val_loss: 12.5161 - val_r2: 0.9300 - val_rmse: 7.2853\n",
      "Epoch 8/50\n",
      "25679/25679 [==============================] - 56s 2ms/step - loss: 12.5488 - r2: 0.9300 - rmse: 7.2718 - val_loss: 12.5196 - val_r2: 0.9300 - val_rmse: 7.2781\n",
      "Epoch 9/50\n",
      "25679/25679 [==============================] - 56s 2ms/step - loss: 12.5432 - r2: 0.9301 - rmse: 7.2697 - val_loss: 12.5077 - val_r2: 0.9303 - val_rmse: 7.2633\n",
      "Epoch 10/50\n",
      "25679/25679 [==============================] - 56s 2ms/step - loss: 12.5404 - r2: 0.9302 - rmse: 7.2661 - val_loss: 12.5111 - val_r2: 0.9301 - val_rmse: 7.2638\n",
      "Epoch 11/50\n",
      "25679/25679 [==============================] - 56s 2ms/step - loss: 12.5361 - r2: 0.9300 - rmse: 7.2637 - val_loss: 12.5060 - val_r2: 0.9303 - val_rmse: 7.2630\n",
      "Epoch 12/50\n",
      "25679/25679 [==============================] - 56s 2ms/step - loss: 12.5337 - r2: 0.9301 - rmse: 7.2626 - val_loss: 12.5053 - val_r2: 0.9303 - val_rmse: 7.2617\n",
      "Epoch 13/50\n",
      "25679/25679 [==============================] - 56s 2ms/step - loss: 12.5298 - r2: 0.9303 - rmse: 7.2591 - val_loss: 12.5028 - val_r2: 0.9304 - val_rmse: 7.2561\n",
      "Epoch 14/50\n",
      "25679/25679 [==============================] - 57s 2ms/step - loss: 12.5298 - r2: 0.9300 - rmse: 7.2584 - val_loss: 12.5309 - val_r2: 0.9301 - val_rmse: 7.2620\n",
      "Epoch 15/50\n",
      "25679/25679 [==============================] - 56s 2ms/step - loss: 12.5272 - r2: 0.9301 - rmse: 7.2574 - val_loss: 12.5183 - val_r2: 0.9301 - val_rmse: 7.2731\n",
      "Epoch 16/50\n",
      "25679/25679 [==============================] - 56s 2ms/step - loss: 12.5245 - r2: 0.9302 - rmse: 7.2560 - val_loss: 12.5106 - val_r2: 0.9303 - val_rmse: 7.2561\n",
      "Epoch 17/50\n",
      "25679/25679 [==============================] - 56s 2ms/step - loss: 12.5220 - r2: 0.9302 - rmse: 7.2547 - val_loss: 12.5085 - val_r2: 0.9303 - val_rmse: 7.2577\n",
      "Epoch 18/50\n",
      "25679/25679 [==============================] - 56s 2ms/step - loss: 12.5203 - r2: 0.9303 - rmse: 7.2534 - val_loss: 12.5313 - val_r2: 0.9301 - val_rmse: 7.2800\n",
      "1407/1407 [==============================] - 1s 867us/step\n"
     ]
    }
   ],
   "source": [
    "test_predict = []\n",
    "for i in range(2):\n",
    "    print(\"Currently on iteration \"+str(i+1))\n",
    "    test_predict.append(NN())\n",
    "test_predict = np.array(test_predict).mean(axis=0)"
   ]
  },
  {
   "cell_type": "code",
   "execution_count": 18,
   "id": "solved-radiation",
   "metadata": {},
   "outputs": [],
   "source": [
    "# plotting graphs to visualise the learning of the network\n",
    "# histories = {'model':history}\n",
    "# #Training loss and validation loss\n",
    "# plotter = tfdocs.plots.HistoryPlotter(metric = 'rmse', smoothing_std=10)\n",
    "# plotter.plot(histories)"
   ]
  },
  {
   "cell_type": "code",
   "execution_count": 19,
   "id": "internal-timeline",
   "metadata": {},
   "outputs": [
    {
     "data": {
      "text/html": [
       "<div>\n",
       "<style scoped>\n",
       "    .dataframe tbody tr th:only-of-type {\n",
       "        vertical-align: middle;\n",
       "    }\n",
       "\n",
       "    .dataframe tbody tr th {\n",
       "        vertical-align: top;\n",
       "    }\n",
       "\n",
       "    .dataframe thead th {\n",
       "        text-align: right;\n",
       "    }\n",
       "</style>\n",
       "<table border=\"1\" class=\"dataframe\">\n",
       "  <thead>\n",
       "    <tr style=\"text-align: right;\">\n",
       "      <th></th>\n",
       "      <th>sales</th>\n",
       "    </tr>\n",
       "  </thead>\n",
       "  <tbody>\n",
       "    <tr>\n",
       "      <th>0</th>\n",
       "      <td>12.0</td>\n",
       "    </tr>\n",
       "    <tr>\n",
       "      <th>1</th>\n",
       "      <td>14.0</td>\n",
       "    </tr>\n",
       "    <tr>\n",
       "      <th>2</th>\n",
       "      <td>14.0</td>\n",
       "    </tr>\n",
       "    <tr>\n",
       "      <th>3</th>\n",
       "      <td>15.0</td>\n",
       "    </tr>\n",
       "    <tr>\n",
       "      <th>4</th>\n",
       "      <td>16.0</td>\n",
       "    </tr>\n",
       "  </tbody>\n",
       "</table>\n",
       "</div>"
      ],
      "text/plain": [
       "   sales\n",
       "0   12.0\n",
       "1   14.0\n",
       "2   14.0\n",
       "3   15.0\n",
       "4   16.0"
      ]
     },
     "execution_count": 19,
     "metadata": {},
     "output_type": "execute_result"
    }
   ],
   "source": [
    "#1.0082\n",
    "results = pd.DataFrame(test_predict)/0.983\n",
    "results = results.rename(columns={0: 'sales'})\n",
    "results.sales = results.sales.round()\n",
    "results.head()"
   ]
  },
  {
   "cell_type": "code",
   "execution_count": 20,
   "id": "royal-dakota",
   "metadata": {},
   "outputs": [],
   "source": [
    "results.to_csv('submissionNN_f1.csv', index_label='id')"
   ]
  },
  {
   "cell_type": "code",
   "execution_count": 21,
   "id": "demonstrated-description",
   "metadata": {},
   "outputs": [
    {
     "data": {
      "image/png": "[encoded data removed]",
      "text/plain": [
       "<IPython.core.display.Image object>"
      ]
     },
     "execution_count": 21,
     "metadata": {},
     "output_type": "execute_result"
    }
   ],
   "source": [
    "year = keras.Input(shape=(1,), name=\"year\", dtype=\"float32\")\n",
    "month = keras.Input(shape=(1,), name=\"month\", dtype=\"int64\")\n",
    "day = keras.Input(shape=(1,), name=\"day\", dtype=\"int64\")\n",
    "weekday = keras.Input(shape=(1,), name=\"weekday\", dtype=\"int64\")\n",
    "store = keras.Input(shape=(1,), name=\"store\", dtype=\"int64\")\n",
    "item = keras.Input(shape=(1,), name=\"item\", dtype=\"int64\")\n",
    "\n",
    "all_inputs = [\n",
    "    year,\n",
    "    month,\n",
    "    day,\n",
    "    weekday,\n",
    "    store,\n",
    "    item\n",
    "]\n",
    "\n",
    "m = layers.Embedding(unique['month']+1, (unique['month']//2)+1)(month)\n",
    "outputm = layers.Flatten()(m)\n",
    "d = layers.Embedding(unique['day']+1, (unique['day']//2)+1)(day)\n",
    "outputd = layers.Flatten()(d)\n",
    "wd = layers.Embedding(unique['weekday']+1, (unique['weekday']//2)+1)(weekday)\n",
    "outputwd = layers.Flatten()(wd)\n",
    "s = layers.Embedding(unique['store']+1, (unique['store']//2)+1)(store)\n",
    "outputs = layers.Flatten()(s)\n",
    "i = layers.Embedding(unique['item']+1, (unique['item']//2)+1)(item)\n",
    "outputi = layers.Flatten()(i)\n",
    "\n",
    "all_features = layers.concatenate([\n",
    "    year,\n",
    "    outputm,\n",
    "    outputd,\n",
    "    outputwd,\n",
    "    outputs,\n",
    "    outputi,\n",
    "])\n",
    "x = layers.Dense(500, activation=\"relu\")(all_features)\n",
    "x = layers.Dense(100, activation=\"relu\")(x)\n",
    "x = layers.Dense(10, activation=\"relu\")(x)\n",
    "output = layers.Dense(1, activation=\"linear\")(x)\n",
    "modelv = keras.Model(all_inputs, output)\n",
    "keras.utils.plot_model(modelv, show_shapes=True, rankdir=\"LR\")"
   ]
  },
  {
   "cell_type": "code",
   "execution_count": null,
   "id": "anticipated-rochester",
   "metadata": {},
   "outputs": [],
   "source": []
  },
  {
   "cell_type": "code",
   "execution_count": null,
   "id": "transparent-stanford",
   "metadata": {},
   "outputs": [],
   "source": []
  }
 ],
 "metadata": {
  "kernelspec": {
   "display_name": "Python 3",
   "language": "python",
   "name": "python3"
  },
  "language_info": {
   "codemirror_mode": {
    "name": "ipython",
    "version": 3
   },
   "file_extension": ".py",
   "mimetype": "text/x-python",
   "name": "python",
   "nbconvert_exporter": "python",
   "pygments_lexer": "ipython3",
   "version": "3.7.9"
  }
 },
 "nbformat": 4,
 "nbformat_minor": 5
}
